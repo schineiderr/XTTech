{
 "cells": [
  {
   "cell_type": "code",
   "execution_count": 5,
   "id": "aef95a6f",
   "metadata": {
    "scrolled": true
   },
   "outputs": [
    {
     "name": "stdout",
     "output_type": "stream",
     "text": [
      "Digite algo: algo\n",
      "<class 'str'>\n",
      "opção invalida\n",
      "<class 'str'>\n",
      "invalid literal for int() with base 10: 'algo'\n"
     ]
    }
   ],
   "source": [
    "entrada = input(\"Digite algo: \")\n",
    "\n",
    "print(type(entrada))\n",
    "\n",
    "try:\n",
    "    entrada = int(entrada)\n",
    "    print(\"opção valida\")\n",
    "    print(type(entrada))\n",
    "except Exception as ex:\n",
    "    print(\"opção invalida\")\n",
    "    print(type(entrada))\n",
    "    print(ex)"
   ]
  },
  {
   "cell_type": "code",
   "execution_count": null,
   "id": "1f7dce88",
   "metadata": {},
   "outputs": [],
   "source": []
  },
  {
   "cell_type": "code",
   "execution_count": null,
   "id": "bfa097c7",
   "metadata": {},
   "outputs": [],
   "source": []
  }
 ],
 "metadata": {
  "kernelspec": {
   "display_name": "Python 3 (ipykernel)",
   "language": "python",
   "name": "python3"
  },
  "language_info": {
   "codemirror_mode": {
    "name": "ipython",
    "version": 3
   },
   "file_extension": ".py",
   "mimetype": "text/x-python",
   "name": "python",
   "nbconvert_exporter": "python",
   "pygments_lexer": "ipython3",
   "version": "3.9.7"
  }
 },
 "nbformat": 4,
 "nbformat_minor": 5
}
