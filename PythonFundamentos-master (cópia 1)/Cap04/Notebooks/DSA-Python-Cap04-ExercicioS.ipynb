{
 "cells": [
  {
   "cell_type": "markdown",
   "metadata": {},
   "source": [
    "# <font color='blue'>Data Science Academy - Python Fundamentos - Capítulo 4</font>\n",
    "\n",
    "## Download: http://github.com/dsacademybr"
   ]
  },
  {
   "cell_type": "code",
   "execution_count": null,
   "metadata": {},
   "outputs": [],
   "source": [
    "# Versão da Linguagem Python\n",
    "from platform import python_version\n",
    "print('Versão da Linguagem Python Usada Neste Jupyter Notebook:', python_version())"
   ]
  },
  {
   "cell_type": "markdown",
   "metadata": {},
   "source": [
    "## Exercícios "
   ]
  },
  {
   "cell_type": "code",
   "execution_count": null,
   "metadata": {},
   "outputs": [],
   "source": [
    "# Exercício 1 - Crie uma lista de 3 elementos e calcule a terceira potência de cada elemento.\n",
    "lista = [2, 3, 5]\n",
    "lista_2 = list(map(lambda x: x**3, lista))\n",
    "\n",
    "print(lista)\n",
    "print(lista_2)"
   ]
  },
  {
   "cell_type": "code",
   "execution_count": null,
   "metadata": {},
   "outputs": [],
   "source": [
    "# Exercício 2 - Reescreva o código abaixo, usando a função map(). O resultado final deve ser o mesmo!\n",
    "palavras = 'A Data Science Academy oferece os melhores cursos de análise de dados do Brasil'.split()\n",
    "resultado = [[w.upper(), w.lower(), len(w)] for w in palavras]\n",
    "for i in resultado:\n",
    "    print (i)"
   ]
  },
  {
   "cell_type": "code",
   "execution_count": null,
   "metadata": {},
   "outputs": [],
   "source": [
    "resultado_2 = list(map(lambda w: [w.upper(), w.lower(), len(w)], palavras))\n",
    "for i in resultado_2:\n",
    "    print(i)"
   ]
  },
  {
   "cell_type": "code",
   "execution_count": null,
   "metadata": {},
   "outputs": [],
   "source": [
    "# Exercício 3 - Calcule a matriz transposta da matriz abaixo.\n",
    "# Caso não saiba o que é matriz transposta, visite este link: https://pt.wikipedia.org/wiki/Matriz_transposta\n",
    "# Matriz transposta é um conceito fundamental na construção de redes neurais artificiais, base de sistemas de IA.\n",
    "\n",
    "print('Matrix Inicial: \\n')\n",
    "matrix = [[1, 2, 3],[4, 5, 6],[7, 8, 9]]\n",
    "for linha in matrix:\n",
    "    print(linha)\n",
    "\n",
    "n_linhas = len(matrix)\n",
    "n_colunas = len(matrix[0])\n",
    "    \n",
    "matrix_t = []\n",
    "\n",
    "for i in range(0, n_colunas):\n",
    "    m = []\n",
    "    for j in range(0, n_linhas):\n",
    "        m.append(matrix[j][i])\n",
    "    matrix_t.append(m)\n",
    "    \n",
    "print('\\nTransposta: \\n')\n",
    "for linha in matrix_t:\n",
    "    print(linha)"
   ]
  },
  {
   "cell_type": "code",
   "execution_count": null,
   "metadata": {},
   "outputs": [],
   "source": [
    "### Verssão do René\n",
    "\n",
    "matrix = [[1, 2],[3,4],[5,6],[7,8]]\n",
    "#matrixT = []\n",
    "for k in matrix:\n",
    "    print(k) \n",
    "for i in range(2):\n",
    "    n = []\n",
    "    for j in range(4):\n",
    "        n.append(matrix[j][i])\n",
    "    print(n)\n",
    "#    matrixT.append(n)\n",
    "#for t in matrixT:\n",
    "#    print(t)"
   ]
  },
  {
   "cell_type": "code",
   "execution_count": null,
   "metadata": {},
   "outputs": [],
   "source": [
    "# Exercício 4 - Crie duas funções, uma para elevar um número ao quadrado e outra para elevar ao cubo. \n",
    "# Aplique as duas funções aos elementos da lista abaixo. \n",
    "# Obs: as duas funções devem ser aplicadas simultaneamente.\n",
    "lista = [0, 1, 2, 3, 4]\n",
    "\n",
    "quadrado_cubo = list(map(lambda x: [x**2, x**3], lista))\n",
    "\n",
    "for i in quadrado_cubo:\n",
    "    print(i)"
   ]
  },
  {
   "cell_type": "code",
   "execution_count": null,
   "metadata": {},
   "outputs": [],
   "source": [
    "# Exercício 5 - Abaixo você encontra duas listas. Faça com que cada elemento da listaA seja elevado \n",
    "# ao elemento correspondente na listaB.\n",
    "listaA = [2, 3, 4]\n",
    "listaB = [10, 11, 12]\n",
    "\n",
    "listaC = []\n",
    "for i in range(0, len(listaA)):\n",
    "    print(\"i: \", i)\n",
    "    a = listaA[i]**listaB[i]\n",
    "    print(listaA[i], \"**\", listaB[i], \" = \", a)\n",
    "    listaC.append(a)\n",
    "    \n",
    "print(\"\\nlistaC: \", listaC)"
   ]
  },
  {
   "cell_type": "code",
   "execution_count": null,
   "metadata": {},
   "outputs": [],
   "source": [
    "# Exercício 6 - Considerando o range de valores abaixo, use a função filter() para retornar apenas os valores negativos.\n",
    "range(-5, 5)\n",
    "\n",
    "list(filter(lambda x: x < 0, range(-5, 5)))"
   ]
  },
  {
   "cell_type": "code",
   "execution_count": null,
   "metadata": {},
   "outputs": [],
   "source": [
    "# Exercício 7 - Usando a função filter(), encontre os valores que são comuns às duas listas abaixo.\n",
    "a = [1,2,3,5,7,9]\n",
    "b = [2,3,5,6,7,8]\n",
    "\n",
    "list(filter(lambda x: x in b, a))"
   ]
  },
  {
   "cell_type": "code",
   "execution_count": null,
   "metadata": {},
   "outputs": [],
   "source": [
    "# Exercício 8 - Considere o código abaixo. Obtenha o mesmo resultado usando o pacote time. \n",
    "# Não conhece o pacote time? Pesquise!\n",
    "import datetime\n",
    "print (datetime.datetime.now().strftime(\"%d/%m/%Y %H:%M\"))\n",
    "\n",
    "import time\n",
    "print (time.strftime(\"%d/%m/%Y %H:%M\"))"
   ]
  },
  {
   "cell_type": "code",
   "execution_count": 2,
   "metadata": {
    "scrolled": true
   },
   "outputs": [
    {
     "name": "stdout",
     "output_type": "stream",
     "text": [
      "[('a', 4), ('b', 5)]\n",
      "{'a': 4, 'b': 5}\n"
     ]
    }
   ],
   "source": [
    "# Exercício 9 - Considere os dois dicionários abaixo. \n",
    "# Crie um terceiro dicionário com as chaves do dicionário 1 e os valores do dicionário 2.\n",
    "dict1 = {'a':1,'b':2}\n",
    "dict2 = {'c':4,'d':5}\n",
    "\n",
    "lista = list(zip(dict1, dict2.values()))\n",
    "print(lista)\n",
    "\n",
    "dict3 = {}\n",
    "\n",
    "for chave, valor in lista:\n",
    "    dict3[chave] = valor\n",
    "    \n",
    "print(dict3)"
   ]
  },
  {
   "cell_type": "code",
   "execution_count": 8,
   "metadata": {
    "scrolled": true
   },
   "outputs": [
    {
     "name": "stdout",
     "output_type": "stream",
     "text": [
      "['g', 'h']\n",
      "[['g', 'h']]\n",
      "g\n",
      "h\n",
      "{0: 'a', 1: 'b', 2: 'c', 3: 'd', 4: 'e', 5: 'f', 6: 'g', 7: 'h'}\n",
      "[(0, 'a'), (1, 'b'), (2, 'c'), (3, 'd'), (4, 'e'), (5, 'f'), (6, 'g'), (7, 'h')]\n"
     ]
    }
   ],
   "source": [
    "# Exercício 10 - Considere a lista abaixo e retorne apenas os elementos cujo índice for maior que 5.\n",
    "lista = ['a', 'b', 'c', 'd', 'e', 'f', 'g', 'h']\n",
    "\n",
    "#### Geito 1 de fazer ###\n",
    "lista2 = []\n",
    "for i in range(len(lista)):\n",
    "    if i > 5:\n",
    "        lista2.append(lista[i])\n",
    "        \n",
    "print(lista2)\n",
    "\n",
    "### Outro Geito do jerfso ###\n",
    "\n",
    "lista3 = []\n",
    "lista3.append(lista[6:])\n",
    "print(lista3)\n",
    "\n",
    "### Geito do DSA de fazer ###\n",
    "\n",
    "lista4 = list(enumerate(lista))\n",
    "for indice, valor in lista4:\n",
    "    if indice <= 5:\n",
    "        continue\n",
    "    else:\n",
    "        print(valor)\n",
    "        \n",
    "print(lista4)\n",
    "\n",
    "### Transformando num dicionário para treinar ###\n",
    "\n",
    "dic = {}\n",
    "for chave, valor in lista4:\n",
    "    dic[chave] = valor\n",
    "print(dic)"
   ]
  },
  {
   "cell_type": "markdown",
   "metadata": {},
   "source": [
    "# Fim"
   ]
  },
  {
   "cell_type": "markdown",
   "metadata": {},
   "source": [
    "### Obrigado\n",
    "\n",
    "### Visite o Blog da Data Science Academy - <a href=\"http://blog.dsacademy.com.br\">Blog DSA</a>"
   ]
  }
 ],
 "metadata": {
  "kernelspec": {
   "display_name": "Python 3 (ipykernel)",
   "language": "python",
   "name": "python3"
  },
  "language_info": {
   "codemirror_mode": {
    "name": "ipython",
    "version": 3
   },
   "file_extension": ".py",
   "mimetype": "text/x-python",
   "name": "python",
   "nbconvert_exporter": "python",
   "pygments_lexer": "ipython3",
   "version": "3.9.7"
  }
 },
 "nbformat": 4,
 "nbformat_minor": 1
}
